{
 "cells": [
  {
   "cell_type": "markdown",
   "metadata": {},
   "source": [
    "# Regression Workflow (Diabetes)"
   ]
  },
  {
   "cell_type": "markdown",
   "metadata": {},
   "source": [
    "In this lesson we will go over the workflow for regression modelling. This investigates the effect of various features on the tendency of patients to develop diabetes, using the `sklearn` methods `LinearRegression` and `Ridge` regularization. We will look at how coefficients can vary signficantly due to overfitting, and how that can be alleviated using regularization."
   ]
  },
  {
   "cell_type": "markdown",
   "metadata": {},
   "source": [
    "## Import Modules and Data"
   ]
  },
  {
   "cell_type": "markdown",
   "metadata": {},
   "source": [
    "First import the required modules, and create a function for plotting the correlation matrix. This is a common procedure, so the function will be able to be used in later notebooks."
   ]
  },
  {
   "cell_type": "code",
   "execution_count": 8,
   "metadata": {},
   "outputs": [],
   "source": [
    "import pandas as pd\n",
    "import numpy as np\n",
    "from matplotlib import pyplot as plt\n",
    "import seaborn as sns\n",
    "from sklearn.model_selection import train_test_split # for splitting the data into training and testing sets\n",
    "from sklearn.linear_model import LinearRegression, Ridge, Lasso # models we are going to use\n",
    "from sklearn.metrics import r2_score # for comparing the predicted and test values"
   ]
  },
  {
   "cell_type": "code",
   "execution_count": 9,
   "metadata": {},
   "outputs": [],
   "source": [
    "def plt_correlation_matrix(corrs):\n",
    "    '''Uses the seaborn heatmap to plot the correlation matrix of a pandas dataframe''' \n",
    "    # as this is a symmetric table, set up a mask so that we only plot values \n",
    "    # below the main diagonal\n",
    "    mask = np.triu(np.ones_like(corrs, dtype=bool))\n",
    "    f, ax = plt.subplots(figsize=(10, 8)) # initialise the plots and axes\n",
    "    # plot the correlations as a seaborn heatmap, with a colourbar\n",
    "    sns.heatmap(corrs, mask=mask, center=0, annot=True, square=True, linewidths=.5) \n",
    "    # do some fiddling so that the top and bottom are not obscured\n",
    "    bottom, top = ax.get_ylim() \n",
    "    ax.set_ylim(bottom + 0.5, top - 0.5)"
   ]
  },
  {
   "cell_type": "markdown",
   "metadata": {},
   "source": [
    "Next import the Diabetes dataset. You will need download the data from the Moodle page and save it in your working directory. The same dataset can be imported from the `sklearn` example datasets, but is already normalized. We will use the unnormalized dataset initially."
   ]
  },
  {
   "cell_type": "code",
   "execution_count": 10,
   "metadata": {},
   "outputs": [],
   "source": [
    "df = pd.read_csv('Diabetes_Data.csv') # read the Diabetes dataset into a pandas dataframe"
   ]
  },
  {
   "cell_type": "markdown",
   "metadata": {},
   "source": [
    "## Data Analysis"
   ]
  },
  {
   "cell_type": "markdown",
   "metadata": {},
   "source": [
    "`BP` is blood pressure, `BMI` is body mass index (healthy range for adults is 18.5 to 25) and `S1`-`S6` are various blood serum measurements. `Y` is the target variable, and is a measure of disease progression one year after the original measurements. Aim is to predict `Y` from the other variables.\n",
    "\n",
    "We can look at the first few values of the variables, and at the descriptive statistics."
   ]
  },
  {
   "cell_type": "code",
   "execution_count": 11,
   "metadata": {},
   "outputs": [
    {
     "data": {
      "text/html": [
       "<div>\n",
       "<style scoped>\n",
       "    .dataframe tbody tr th:only-of-type {\n",
       "        vertical-align: middle;\n",
       "    }\n",
       "\n",
       "    .dataframe tbody tr th {\n",
       "        vertical-align: top;\n",
       "    }\n",
       "\n",
       "    .dataframe thead th {\n",
       "        text-align: right;\n",
       "    }\n",
       "</style>\n",
       "<table border=\"1\" class=\"dataframe\">\n",
       "  <thead>\n",
       "    <tr style=\"text-align: right;\">\n",
       "      <th></th>\n",
       "      <th>AGE</th>\n",
       "      <th>SEX</th>\n",
       "      <th>BMI</th>\n",
       "      <th>BP</th>\n",
       "      <th>S1</th>\n",
       "      <th>S2</th>\n",
       "      <th>S3</th>\n",
       "      <th>S4</th>\n",
       "      <th>S5</th>\n",
       "      <th>S6</th>\n",
       "      <th>Y</th>\n",
       "    </tr>\n",
       "  </thead>\n",
       "  <tbody>\n",
       "    <tr>\n",
       "      <th>0</th>\n",
       "      <td>59</td>\n",
       "      <td>2</td>\n",
       "      <td>32.1</td>\n",
       "      <td>101.0</td>\n",
       "      <td>157</td>\n",
       "      <td>93.2</td>\n",
       "      <td>38.0</td>\n",
       "      <td>4.0</td>\n",
       "      <td>4.8598</td>\n",
       "      <td>87</td>\n",
       "      <td>151</td>\n",
       "    </tr>\n",
       "    <tr>\n",
       "      <th>1</th>\n",
       "      <td>48</td>\n",
       "      <td>1</td>\n",
       "      <td>21.6</td>\n",
       "      <td>87.0</td>\n",
       "      <td>183</td>\n",
       "      <td>103.2</td>\n",
       "      <td>70.0</td>\n",
       "      <td>3.0</td>\n",
       "      <td>3.8918</td>\n",
       "      <td>69</td>\n",
       "      <td>75</td>\n",
       "    </tr>\n",
       "    <tr>\n",
       "      <th>2</th>\n",
       "      <td>72</td>\n",
       "      <td>2</td>\n",
       "      <td>30.5</td>\n",
       "      <td>93.0</td>\n",
       "      <td>156</td>\n",
       "      <td>93.6</td>\n",
       "      <td>41.0</td>\n",
       "      <td>4.0</td>\n",
       "      <td>4.6728</td>\n",
       "      <td>85</td>\n",
       "      <td>141</td>\n",
       "    </tr>\n",
       "    <tr>\n",
       "      <th>3</th>\n",
       "      <td>24</td>\n",
       "      <td>1</td>\n",
       "      <td>25.3</td>\n",
       "      <td>84.0</td>\n",
       "      <td>198</td>\n",
       "      <td>131.4</td>\n",
       "      <td>40.0</td>\n",
       "      <td>5.0</td>\n",
       "      <td>4.8903</td>\n",
       "      <td>89</td>\n",
       "      <td>206</td>\n",
       "    </tr>\n",
       "    <tr>\n",
       "      <th>4</th>\n",
       "      <td>50</td>\n",
       "      <td>1</td>\n",
       "      <td>23.0</td>\n",
       "      <td>101.0</td>\n",
       "      <td>192</td>\n",
       "      <td>125.4</td>\n",
       "      <td>52.0</td>\n",
       "      <td>4.0</td>\n",
       "      <td>4.2905</td>\n",
       "      <td>80</td>\n",
       "      <td>135</td>\n",
       "    </tr>\n",
       "  </tbody>\n",
       "</table>\n",
       "</div>"
      ],
      "text/plain": [
       "   AGE  SEX   BMI     BP   S1     S2    S3   S4      S5  S6    Y\n",
       "0   59    2  32.1  101.0  157   93.2  38.0  4.0  4.8598  87  151\n",
       "1   48    1  21.6   87.0  183  103.2  70.0  3.0  3.8918  69   75\n",
       "2   72    2  30.5   93.0  156   93.6  41.0  4.0  4.6728  85  141\n",
       "3   24    1  25.3   84.0  198  131.4  40.0  5.0  4.8903  89  206\n",
       "4   50    1  23.0  101.0  192  125.4  52.0  4.0  4.2905  80  135"
      ]
     },
     "execution_count": 11,
     "metadata": {},
     "output_type": "execute_result"
    }
   ],
   "source": [
    "df.head()"
   ]
  },
  {
   "cell_type": "code",
   "execution_count": 12,
   "metadata": {},
   "outputs": [
    {
     "data": {
      "text/html": [
       "<div>\n",
       "<style scoped>\n",
       "    .dataframe tbody tr th:only-of-type {\n",
       "        vertical-align: middle;\n",
       "    }\n",
       "\n",
       "    .dataframe tbody tr th {\n",
       "        vertical-align: top;\n",
       "    }\n",
       "\n",
       "    .dataframe thead th {\n",
       "        text-align: right;\n",
       "    }\n",
       "</style>\n",
       "<table border=\"1\" class=\"dataframe\">\n",
       "  <thead>\n",
       "    <tr style=\"text-align: right;\">\n",
       "      <th></th>\n",
       "      <th>AGE</th>\n",
       "      <th>SEX</th>\n",
       "      <th>BMI</th>\n",
       "      <th>BP</th>\n",
       "      <th>S1</th>\n",
       "      <th>S2</th>\n",
       "      <th>S3</th>\n",
       "      <th>S4</th>\n",
       "      <th>S5</th>\n",
       "      <th>S6</th>\n",
       "      <th>Y</th>\n",
       "    </tr>\n",
       "  </thead>\n",
       "  <tbody>\n",
       "    <tr>\n",
       "      <th>count</th>\n",
       "      <td>442.000000</td>\n",
       "      <td>442.000000</td>\n",
       "      <td>442.000000</td>\n",
       "      <td>442.000000</td>\n",
       "      <td>442.000000</td>\n",
       "      <td>442.000000</td>\n",
       "      <td>442.000000</td>\n",
       "      <td>442.000000</td>\n",
       "      <td>442.000000</td>\n",
       "      <td>442.000000</td>\n",
       "      <td>442.000000</td>\n",
       "    </tr>\n",
       "    <tr>\n",
       "      <th>mean</th>\n",
       "      <td>48.518100</td>\n",
       "      <td>1.468326</td>\n",
       "      <td>26.375792</td>\n",
       "      <td>94.647014</td>\n",
       "      <td>189.140271</td>\n",
       "      <td>115.439140</td>\n",
       "      <td>49.788462</td>\n",
       "      <td>4.070249</td>\n",
       "      <td>4.641411</td>\n",
       "      <td>91.260181</td>\n",
       "      <td>152.133484</td>\n",
       "    </tr>\n",
       "    <tr>\n",
       "      <th>std</th>\n",
       "      <td>13.109028</td>\n",
       "      <td>0.499561</td>\n",
       "      <td>4.418122</td>\n",
       "      <td>13.831283</td>\n",
       "      <td>34.608052</td>\n",
       "      <td>30.413081</td>\n",
       "      <td>12.934202</td>\n",
       "      <td>1.290450</td>\n",
       "      <td>0.522391</td>\n",
       "      <td>11.496335</td>\n",
       "      <td>77.093005</td>\n",
       "    </tr>\n",
       "    <tr>\n",
       "      <th>min</th>\n",
       "      <td>19.000000</td>\n",
       "      <td>1.000000</td>\n",
       "      <td>18.000000</td>\n",
       "      <td>62.000000</td>\n",
       "      <td>97.000000</td>\n",
       "      <td>41.600000</td>\n",
       "      <td>22.000000</td>\n",
       "      <td>2.000000</td>\n",
       "      <td>3.258100</td>\n",
       "      <td>58.000000</td>\n",
       "      <td>25.000000</td>\n",
       "    </tr>\n",
       "    <tr>\n",
       "      <th>25%</th>\n",
       "      <td>38.250000</td>\n",
       "      <td>1.000000</td>\n",
       "      <td>23.200000</td>\n",
       "      <td>84.000000</td>\n",
       "      <td>164.250000</td>\n",
       "      <td>96.050000</td>\n",
       "      <td>40.250000</td>\n",
       "      <td>3.000000</td>\n",
       "      <td>4.276700</td>\n",
       "      <td>83.250000</td>\n",
       "      <td>87.000000</td>\n",
       "    </tr>\n",
       "    <tr>\n",
       "      <th>50%</th>\n",
       "      <td>50.000000</td>\n",
       "      <td>1.000000</td>\n",
       "      <td>25.700000</td>\n",
       "      <td>93.000000</td>\n",
       "      <td>186.000000</td>\n",
       "      <td>113.000000</td>\n",
       "      <td>48.000000</td>\n",
       "      <td>4.000000</td>\n",
       "      <td>4.620050</td>\n",
       "      <td>91.000000</td>\n",
       "      <td>140.500000</td>\n",
       "    </tr>\n",
       "    <tr>\n",
       "      <th>75%</th>\n",
       "      <td>59.000000</td>\n",
       "      <td>2.000000</td>\n",
       "      <td>29.275000</td>\n",
       "      <td>105.000000</td>\n",
       "      <td>209.750000</td>\n",
       "      <td>134.500000</td>\n",
       "      <td>57.750000</td>\n",
       "      <td>5.000000</td>\n",
       "      <td>4.997200</td>\n",
       "      <td>98.000000</td>\n",
       "      <td>211.500000</td>\n",
       "    </tr>\n",
       "    <tr>\n",
       "      <th>max</th>\n",
       "      <td>79.000000</td>\n",
       "      <td>2.000000</td>\n",
       "      <td>42.200000</td>\n",
       "      <td>133.000000</td>\n",
       "      <td>301.000000</td>\n",
       "      <td>242.400000</td>\n",
       "      <td>99.000000</td>\n",
       "      <td>9.090000</td>\n",
       "      <td>6.107000</td>\n",
       "      <td>124.000000</td>\n",
       "      <td>346.000000</td>\n",
       "    </tr>\n",
       "  </tbody>\n",
       "</table>\n",
       "</div>"
      ],
      "text/plain": [
       "              AGE         SEX         BMI          BP          S1          S2  \\\n",
       "count  442.000000  442.000000  442.000000  442.000000  442.000000  442.000000   \n",
       "mean    48.518100    1.468326   26.375792   94.647014  189.140271  115.439140   \n",
       "std     13.109028    0.499561    4.418122   13.831283   34.608052   30.413081   \n",
       "min     19.000000    1.000000   18.000000   62.000000   97.000000   41.600000   \n",
       "25%     38.250000    1.000000   23.200000   84.000000  164.250000   96.050000   \n",
       "50%     50.000000    1.000000   25.700000   93.000000  186.000000  113.000000   \n",
       "75%     59.000000    2.000000   29.275000  105.000000  209.750000  134.500000   \n",
       "max     79.000000    2.000000   42.200000  133.000000  301.000000  242.400000   \n",
       "\n",
       "               S3          S4          S5          S6           Y  \n",
       "count  442.000000  442.000000  442.000000  442.000000  442.000000  \n",
       "mean    49.788462    4.070249    4.641411   91.260181  152.133484  \n",
       "std     12.934202    1.290450    0.522391   11.496335   77.093005  \n",
       "min     22.000000    2.000000    3.258100   58.000000   25.000000  \n",
       "25%     40.250000    3.000000    4.276700   83.250000   87.000000  \n",
       "50%     48.000000    4.000000    4.620050   91.000000  140.500000  \n",
       "75%     57.750000    5.000000    4.997200   98.000000  211.500000  \n",
       "max     99.000000    9.090000    6.107000  124.000000  346.000000  "
      ]
     },
     "execution_count": 12,
     "metadata": {},
     "output_type": "execute_result"
    }
   ],
   "source": [
    "df.describe()"
   ]
  },
  {
   "cell_type": "markdown",
   "metadata": {},
   "source": [
    "Since the maximum and minumum values of all features are similar, that suggests there are no missing data points and we don't need to clean the data.\n",
    "\n",
    "Here the field `SEX` only has two values. "
   ]
  },
  {
   "cell_type": "code",
   "execution_count": 13,
   "metadata": {},
   "outputs": [
    {
     "data": {
      "text/plain": [
       "array([2, 1], dtype=int64)"
      ]
     },
     "execution_count": 13,
     "metadata": {},
     "output_type": "execute_result"
    }
   ],
   "source": [
    "df['SEX'].unique()"
   ]
  },
  {
   "cell_type": "markdown",
   "metadata": {},
   "source": [
    "Categorical data such as this should be converted to binary columuns using the `sklearn` method `OneHotEncoder` or `pandas` method `get_dummies`. However, since `SEX` is already binary, there is no need to do this. If we had a field which had three categories, for example, the data came from three different states, then we could create a binary field for each state, with the value 1 if the person is resident in the state and 0 otherwise. For more details see `sklearn.feature_extraction.DictVectorizer` and `sklearn.preprocessing.OneHotEncoder`.\n",
    "\n",
    "We can view the variable correlations to search for patterns. `SEX` doesn't seem to be important in predicting `Y`, and `AGE`, `S1` and `S2` are only marginally important. The most important variables seem to be `BMI`, `BP`, `S4` and `S5`. There is a strong correlation between `S1` and `S2`, and `S3` and `S4`."
   ]
  },
  {
   "cell_type": "code",
   "execution_count": 14,
   "metadata": {},
   "outputs": [
    {
     "data": {
      "image/png": "[encoded data removed]",
      "text/plain": [
       "<Figure size 720x576 with 2 Axes>"
      ]
     },
     "metadata": {
      "needs_background": "light"
     },
     "output_type": "display_data"
    }
   ],
   "source": [
    "plt_correlation_matrix(df.corr()) # plot the correlation table"
   ]
  },
  {
   "cell_type": "markdown",
   "metadata": {},
   "source": [
    "## Linear Regression"
   ]
  },
  {
   "cell_type": "markdown",
   "metadata": {},
   "source": [
    "The next step is to do some simple modelling, to test the feasability of models. Here we will do this with linear regression. To perform regression modellings we now create a matrix of independent variables (features) given by `X`, and the dependent or target variable `Y`."
   ]
  },
  {
   "cell_type": "code",
   "execution_count": 15,
   "metadata": {},
   "outputs": [],
   "source": [
    "X = df.drop(['Y'],axis=1) # drop Y from our dataframe\n",
    "Y = df['Y'] # create a dataframe with just the Y values"
   ]
  },
  {
   "cell_type": "markdown",
   "metadata": {},
   "source": [
    "Now we split the data into training and testing sets, and model the data using the  `sklearn` Linear Regression model. Recall the method `fit` trains the data, then `predict` uses the independent test variables to predict the target values. This can be compared against the dependent test variables to calculate $R^2$, the square of the correlation coefficient. The method `score` calculates $R^2$ for the training set. This will typically be greater than the $R^2$ for the testing set. As is apparent the fit is not fantastic, but we will see if it can be improved using regularization."
   ]
  },
  {
   "cell_type": "code",
   "execution_count": 16,
   "metadata": {},
   "outputs": [
    {
     "name": "stdout",
     "output_type": "stream",
     "text": [
      "Training score is 0.5334\n",
      "Testing score is 0.4566\n"
     ]
    }
   ],
   "source": [
    "rng = np.random.RandomState(1) # make sure the results are repeatable\n",
    "# split into a training set with 80% of the data, and a testing set as the remainder\n",
    "X_train, X_test, Y_train, Y_test = train_test_split(X,Y,test_size=0.8) \n",
    "linear = LinearRegression() # instantatiate the linear regression model\n",
    "linear.fit(X_train,Y_train) # fit the data to the model\n",
    "training_score = linear.score(X_train,Y_train) # calculate rsq for the training set\n",
    "# use the independent variables for the testing set to predict the target variable\n",
    "preds_linear = linear.predict(X_test) \n",
    "# calculate the correlation of the predicted and actual target variables\n",
    "rsquared_linear = r2_score(Y_test,preds_linear) \n",
    "# print the training and testing scores\n",
    "print(\"Training score is\",round(training_score,4))\n",
    "print(\"Testing score is\",round(rsquared_linear,4))"
   ]
  },
  {
   "cell_type": "markdown",
   "metadata": {},
   "source": [
    "We can also evaluate the model graphically by plotting the predicted test values against the actual test values, and plotting the line of best fit for this data. This is compared against the line $x=y$, which is shown in black, and will alway have a greater slope that the line of best fit. "
   ]
  },
  {
   "cell_type": "code",
   "execution_count": 17,
   "metadata": {
    "scrolled": true
   },
   "outputs": [
    {
     "data": {
      "image/png": "[encoded data removed]",
      "text/plain": [
       "<Figure size 432x288 with 1 Axes>"
      ]
     },
     "metadata": {
      "needs_background": "light"
     },
     "output_type": "display_data"
    }
   ],
   "source": [
    "plt.scatter(preds_linear,Y_test) # scatter plot of predicted values against actual values\n",
    "# use numpy polyfit and poly1d to create a function for the line of best fit, then plot this function in blue\n",
    "p1 = np.poly1d(np.polyfit(preds_linear, Y_test, 1))\n",
    "plt.plot(Y_test,p1(Y_test),'b--')\n",
    "plt.title(\"Linear Regression, Rsq=%f\" % rsquared_linear) # add a title including the correlation coefficient\n",
    "plt.xlabel(\"Predicted\") # xlabel\n",
    "plt.ylabel(\"Actual\") # ylabel\n",
    "plt.plot(Y_test,Y_test,'k--') # add x=y line in black for comparison\n",
    "plt.show() # display the final plot"
   ]
  },
  {
   "cell_type": "markdown",
   "metadata": {},
   "source": [
    "## Analysis of Coefficients"
   ]
  },
  {
   "cell_type": "markdown",
   "metadata": {},
   "source": [
    "We can investigate the model coefficients to get an idea of the importance of each independent variable in predicting `Y`. However, we cannot directly compare coefficients as their dimensions are different. For example, the `AGE` coefficient will be inversely proportional to years, while the `BP` coefficient will be inversely proportional to mm of Hg. Hence to compare the coefficients we need to make them dimensionless and we also need to take into account the variability of each of the dependent variables. The variability of the features can be obtained from the standard deviation, which also has the same dimensions as the original variables.\n",
    "\n",
    "To compare the importance of the coefficients it is easiest to normalise the independent variables from the start. The dependent variable does not need to be normalised. We normalise all the variables such that their mean is zero and their standard deviation is one, which can be done by subtracting the mean and then dividing by the standard deviation. This is equivalent to multiplying the coefficients by the standard deviation.\n",
    "\n",
    "Normalising the coefficients is particularly important for regularization methods such as `Ridge` and `Lasso`, so that coefficients are treated uniformly by the penalty schemes."
   ]
  },
  {
   "cell_type": "code",
   "execution_count": 18,
   "metadata": {},
   "outputs": [
    {
     "data": {
      "text/html": [
       "<div>\n",
       "<style scoped>\n",
       "    .dataframe tbody tr th:only-of-type {\n",
       "        vertical-align: middle;\n",
       "    }\n",
       "\n",
       "    .dataframe tbody tr th {\n",
       "        vertical-align: top;\n",
       "    }\n",
       "\n",
       "    .dataframe thead th {\n",
       "        text-align: right;\n",
       "    }\n",
       "</style>\n",
       "<table border=\"1\" class=\"dataframe\">\n",
       "  <thead>\n",
       "    <tr style=\"text-align: right;\">\n",
       "      <th></th>\n",
       "      <th>AGE</th>\n",
       "      <th>SEX</th>\n",
       "      <th>BMI</th>\n",
       "      <th>BP</th>\n",
       "      <th>S1</th>\n",
       "      <th>S2</th>\n",
       "      <th>S3</th>\n",
       "      <th>S4</th>\n",
       "      <th>S5</th>\n",
       "      <th>S6</th>\n",
       "    </tr>\n",
       "  </thead>\n",
       "  <tbody>\n",
       "    <tr>\n",
       "      <th>count</th>\n",
       "      <td>4.420000e+02</td>\n",
       "      <td>4.420000e+02</td>\n",
       "      <td>4.420000e+02</td>\n",
       "      <td>4.420000e+02</td>\n",
       "      <td>4.420000e+02</td>\n",
       "      <td>4.420000e+02</td>\n",
       "      <td>4.420000e+02</td>\n",
       "      <td>4.420000e+02</td>\n",
       "      <td>4.420000e+02</td>\n",
       "      <td>4.420000e+02</td>\n",
       "    </tr>\n",
       "    <tr>\n",
       "      <th>mean</th>\n",
       "      <td>-3.717489e-17</td>\n",
       "      <td>1.321216e-16</td>\n",
       "      <td>-4.609686e-15</td>\n",
       "      <td>-9.625282e-16</td>\n",
       "      <td>-3.174936e-16</td>\n",
       "      <td>8.386956e-16</td>\n",
       "      <td>-1.446806e-16</td>\n",
       "      <td>-1.708035e-16</td>\n",
       "      <td>1.904051e-15</td>\n",
       "      <td>2.364248e-16</td>\n",
       "    </tr>\n",
       "    <tr>\n",
       "      <th>std</th>\n",
       "      <td>1.000000e+00</td>\n",
       "      <td>1.000000e+00</td>\n",
       "      <td>1.000000e+00</td>\n",
       "      <td>1.000000e+00</td>\n",
       "      <td>1.000000e+00</td>\n",
       "      <td>1.000000e+00</td>\n",
       "      <td>1.000000e+00</td>\n",
       "      <td>1.000000e+00</td>\n",
       "      <td>1.000000e+00</td>\n",
       "      <td>1.000000e+00</td>\n",
       "    </tr>\n",
       "    <tr>\n",
       "      <th>min</th>\n",
       "      <td>-2.251738e+00</td>\n",
       "      <td>-9.374744e-01</td>\n",
       "      <td>-1.895781e+00</td>\n",
       "      <td>-2.360375e+00</td>\n",
       "      <td>-2.662394e+00</td>\n",
       "      <td>-2.427874e+00</td>\n",
       "      <td>-2.148448e+00</td>\n",
       "      <td>-1.604285e+00</td>\n",
       "      <td>-2.648040e+00</td>\n",
       "      <td>-2.893112e+00</td>\n",
       "    </tr>\n",
       "    <tr>\n",
       "      <th>25%</th>\n",
       "      <td>-7.832846e-01</td>\n",
       "      <td>-9.374744e-01</td>\n",
       "      <td>-7.188104e-01</td>\n",
       "      <td>-7.697777e-01</td>\n",
       "      <td>-7.192046e-01</td>\n",
       "      <td>-6.375263e-01</td>\n",
       "      <td>-7.374604e-01</td>\n",
       "      <td>-8.293610e-01</td>\n",
       "      <td>-6.981574e-01</td>\n",
       "      <td>-6.967595e-01</td>\n",
       "    </tr>\n",
       "    <tr>\n",
       "      <th>50%</th>\n",
       "      <td>1.130443e-01</td>\n",
       "      <td>-9.374744e-01</td>\n",
       "      <td>-1.529591e-01</td>\n",
       "      <td>-1.190789e-01</td>\n",
       "      <td>-9.073818e-02</td>\n",
       "      <td>-8.020037e-02</td>\n",
       "      <td>-1.382738e-01</td>\n",
       "      <td>-5.443750e-02</td>\n",
       "      <td>-4.089059e-02</td>\n",
       "      <td>-2.263165e-02</td>\n",
       "    </tr>\n",
       "    <tr>\n",
       "      <th>75%</th>\n",
       "      <td>7.995940e-01</td>\n",
       "      <td>1.064282e+00</td>\n",
       "      <td>6.562083e-01</td>\n",
       "      <td>7.485196e-01</td>\n",
       "      <td>5.955183e-01</td>\n",
       "      <td>6.267323e-01</td>\n",
       "      <td>6.155415e-01</td>\n",
       "      <td>7.204860e-01</td>\n",
       "      <td>6.810788e-01</td>\n",
       "      <td>5.862581e-01</td>\n",
       "    </tr>\n",
       "    <tr>\n",
       "      <th>max</th>\n",
       "      <td>2.325260e+00</td>\n",
       "      <td>1.064282e+00</td>\n",
       "      <td>3.581660e+00</td>\n",
       "      <td>2.772916e+00</td>\n",
       "      <td>3.232188e+00</td>\n",
       "      <td>4.174548e+00</td>\n",
       "      <td>3.804760e+00</td>\n",
       "      <td>3.889923e+00</td>\n",
       "      <td>2.805543e+00</td>\n",
       "      <td>2.847848e+00</td>\n",
       "    </tr>\n",
       "  </tbody>\n",
       "</table>\n",
       "</div>"
      ],
      "text/plain": [
       "                AGE           SEX           BMI            BP            S1  \\\n",
       "count  4.420000e+02  4.420000e+02  4.420000e+02  4.420000e+02  4.420000e+02   \n",
       "mean  -3.717489e-17  1.321216e-16 -4.609686e-15 -9.625282e-16 -3.174936e-16   \n",
       "std    1.000000e+00  1.000000e+00  1.000000e+00  1.000000e+00  1.000000e+00   \n",
       "min   -2.251738e+00 -9.374744e-01 -1.895781e+00 -2.360375e+00 -2.662394e+00   \n",
       "25%   -7.832846e-01 -9.374744e-01 -7.188104e-01 -7.697777e-01 -7.192046e-01   \n",
       "50%    1.130443e-01 -9.374744e-01 -1.529591e-01 -1.190789e-01 -9.073818e-02   \n",
       "75%    7.995940e-01  1.064282e+00  6.562083e-01  7.485196e-01  5.955183e-01   \n",
       "max    2.325260e+00  1.064282e+00  3.581660e+00  2.772916e+00  3.232188e+00   \n",
       "\n",
       "                 S2            S3            S4            S5            S6  \n",
       "count  4.420000e+02  4.420000e+02  4.420000e+02  4.420000e+02  4.420000e+02  \n",
       "mean   8.386956e-16 -1.446806e-16 -1.708035e-16  1.904051e-15  2.364248e-16  \n",
       "std    1.000000e+00  1.000000e+00  1.000000e+00  1.000000e+00  1.000000e+00  \n",
       "min   -2.427874e+00 -2.148448e+00 -1.604285e+00 -2.648040e+00 -2.893112e+00  \n",
       "25%   -6.375263e-01 -7.374604e-01 -8.293610e-01 -6.981574e-01 -6.967595e-01  \n",
       "50%   -8.020037e-02 -1.382738e-01 -5.443750e-02 -4.089059e-02 -2.263165e-02  \n",
       "75%    6.267323e-01  6.155415e-01  7.204860e-01  6.810788e-01  5.862581e-01  \n",
       "max    4.174548e+00  3.804760e+00  3.889923e+00  2.805543e+00  2.847848e+00  "
      ]
     },
     "execution_count": 18,
     "metadata": {},
     "output_type": "execute_result"
    }
   ],
   "source": [
    "nX =(X-X.mean())/X.std() # create nX, a normalised version of X\n",
    "nX.describe() # show the descriptive statistics of nX"
   ]
  },
  {
   "cell_type": "markdown",
   "metadata": {},
   "source": [
    "We repeat the linear regression, but now using the normalized variables. Again the square of the correlation coefficient is around 0.45."
   ]
  },
  {
   "cell_type": "code",
   "execution_count": 19,
   "metadata": {},
   "outputs": [
    {
     "name": "stdout",
     "output_type": "stream",
     "text": [
      "Training score is 0.4689\n",
      "Testing score is 0.4351\n"
     ]
    }
   ],
   "source": [
    "# split into a training set with 80% of the data, and a testing set as the remainder\n",
    "X_train, X_test, Y_train, Y_test = train_test_split(nX,Y,test_size=0.8, random_state=42) \n",
    "linear = LinearRegression() # instantatiate the linear regression model\n",
    "linear.fit(X_train,Y_train) # fit the data to the model\n",
    "training_score = linear.score(X_train,Y_train) # calculate rsq for the training set\n",
    "# use the independent variables for the testing set to predict the target variable\n",
    "preds_linear = linear.predict(X_test) \n",
    "# calculate the correlation of the predicted and actual target variables\n",
    "rsquared_linear = r2_score(Y_test,preds_linear) \n",
    "# print the training and testing scores\n",
    "print(\"Training score is\",round(training_score,4))\n",
    "print(\"Testing score is\",round(rsquared_linear,4))"
   ]
  },
  {
   "cell_type": "markdown",
   "metadata": {},
   "source": [
    "Now we can plot the linear regression coefficients. It can now be seen that `AGE`, `SEX`, `S3`, `S4` and `S6` appear to have the weakest effect on the prediction of Diabetes onset. "
   ]
  },
  {
   "cell_type": "code",
   "execution_count": 20,
   "metadata": {},
   "outputs": [
    {
     "data": {
      "image/png": "[encoded data removed]",
      "text/plain": [
       "<Figure size 720x360 with 1 Axes>"
      ]
     },
     "metadata": {
      "needs_background": "light"
     },
     "output_type": "display_data"
    }
   ],
   "source": [
    "feature_names = X.columns.tolist() # write the column names to a list\n",
    "# create a new dataframe with the regression coefficients from the normalised data\n",
    "ncoefs = pd.DataFrame(linear.coef_.transpose(),columns=['Normalised'],index=feature_names) \n",
    "# add our original coefficient importance to this dataframe\n",
    "ncoefs.columns =['Normalised Coefficients'] \n",
    "# do a similar horizontal plot as before\n",
    "ax = ncoefs.plot(kind='bar',figsize=(10,5))\n",
    "plt.title('Linear Regression')\n",
    "plt.axhline(y=0, color='.5')\n",
    "plt.subplots_adjust(left=.3)"
   ]
  },
  {
   "cell_type": "markdown",
   "metadata": {},
   "source": [
    "However, we need to consider the variability of the coefficients as the training set is varied. This gives an indication of the variance or overfitting of the model.\n",
    "\n",
    "To investigate the variability we can use the `sklearn` methods `cross_validate` and `RepeatedKFold`. The first of these performs a number of runs of a model. The second splits the data in n sections and repeats the calculations m times. This gives n.m runs to investigate the variability of the coefficients. The variability of these can then be plotted using a box and whisker plot.\n",
    "\n",
    "We can see `AGE`, `SEX`, `BP`, `BMI` and `S6` have very low variance, whereas `S1`-`S5` have high variance indicative of overfitting. Of the low variance features, `AGE` and `S6` seem to have little effect on the predictions."
   ]
  },
  {
   "cell_type": "code",
   "execution_count": 21,
   "metadata": {},
   "outputs": [
    {
     "name": "stdout",
     "output_type": "stream",
     "text": [
      "Testing score is 0.4816 ± 0.0695\n"
     ]
    },
    {
     "data": {
      "image/png": "[encoded data removed]",
      "text/plain": [
       "<Figure size 720x360 with 1 Axes>"
      ]
     },
     "metadata": {
      "needs_background": "light"
     },
     "output_type": "display_data"
    }
   ],
   "source": [
    "from sklearn.model_selection import cross_validate, RepeatedKFold # import sklearn methods\n",
    "\n",
    "rng = np.random.RandomState(1) # make sure the results are repeatable\n",
    "feature_names = nX.columns.tolist() # write the column names to a list\n",
    "# cross_validate takes the particular model, in this case linear regression which we \n",
    "# instantatiated earlier,\n",
    "# and undertakes a number of runs according the method specified by cv=\n",
    "# RepeatedKFold splits the data into n sections and repeat the regression modelling 5 times, \n",
    "# giving 25 runs\n",
    "# return_estimator=True returns the fitting data for each run\n",
    "scores = cross_validate(linear, nX, Y, cv=RepeatedKFold(n_splits=5, n_repeats=5), \n",
    "                        return_estimator=True,return_train_score=True)\n",
    "# take the results for each simulation (estimator), extract the coefficients for each run \n",
    "# and add them to a dataframe with columns being the feature names\n",
    "coefs = pd.DataFrame([est.coef_ for est in scores['estimator']],columns=feature_names)\n",
    "# plot the descriptive statics of the coefficients in a box and whisker plot to show \n",
    "# variability\n",
    "ax = coefs.plot(kind='box',figsize=(10,5))\n",
    "plt.title('Linear Regression')\n",
    "plt.axhline(y=0, color='.5')\n",
    "plt.subplots_adjust(left=.3)\n",
    "print('Testing score is',\n",
    "      round(np.mean(scores['test_score']),4),\"±\",round(np.std(scores['test_score']),4))\n"
   ]
  },
  {
   "cell_type": "markdown",
   "metadata": {},
   "source": [
    "### Regularization \n",
    "\n",
    "We now investigate regularization techniques for Linear Regression, to reduce the variance of the model. We will concentrate of ridge regularization, though other possible techniques are lasso and elastic-net regularizations.\n",
    "\n",
    "To use Ridge regularization (which adds a penalty term which is proportional to the sum of the squares of the coefficients), we need to find the optimal value of the tuning parameter alpha. Here we will first graphically compare the training and testing scores to determine the value of alpha for which we obtain the maximum value of the testing score. To generate the figure we create an array of alpha values, which in this case are logarithmically distributed, and perform a Ridge regularization for each, and store the testing and training scores ( $R^2$ ). Then we plot these against alpha. From the figure we see the optimal value occurs at alpha approximately 20."
   ]
  },
  {
   "cell_type": "code",
   "execution_count": 22,
   "metadata": {},
   "outputs": [
    {
     "data": {
      "image/png": "[encoded data removed]",
      "text/plain": [
       "<Figure size 432x288 with 1 Axes>"
      ]
     },
     "metadata": {
      "needs_background": "light"
     },
     "output_type": "display_data"
    }
   ],
   "source": [
    "rng = np.random.RandomState(1) # make sure the results are repeatable\n",
    "# create an array of 21 alpha values logarithmically distributed between 10**(-2) and 10**2\n",
    "alfas = np.logspace(-2,2,num=21) \n",
    "# create two arrays for storage of the same size as alfas, but filled with zeros\n",
    "ridge_training_score = np.zeros_like(alfas)\n",
    "ridge_rsquared = np.zeros_like(alfas)\n",
    "# loop over the values in the alfas array, at each loop the current value is alfa \n",
    "# and idx is incremented by 1, starting at 0\n",
    "for idx, alfa in enumerate(alfas): \n",
    "    ridge = Ridge(alpha=alfa) # instantatiate Ridge regularization with the current alfa\n",
    "    ridge.fit(X_train,Y_train) # train the model to our data set\n",
    "# calculate the training score and store in the array ridge_training_score\n",
    "    ridge_training_score[idx] = ridge.score(X_train,Y_train) \n",
    "    preds_linear = ridge.predict(X_test) # calculate the model prediction for the test data\n",
    "# calculate the correlation between the predicted and actual test data and store in the  \n",
    "# array ridge_rsquared\n",
    "    ridge_rsquared[idx] = r2_score(Y_test,preds_linear)  \n",
    "# plot the training score against alpha\n",
    "plt.scatter(alfas,ridge_training_score,label='Training score') \n",
    "# plot the testing score against alpha\n",
    "plt.scatter(alfas,ridge_rsquared,label='Testing score') \n",
    "plt.xscale('log') # make the x-axis a logarithmic scale\n",
    "plt.gca().set_xlim(left=.01, right=100); # fix the x-axis limits\n",
    "plt.title('Ridge regularization')\n",
    "plt.xlabel('alpha');\n",
    "plt.legend(loc='best');"
   ]
  },
  {
   "cell_type": "markdown",
   "metadata": {},
   "source": [
    "Now we can investigate Ridge regularization using the optimal value of alpha $\\approx$ 20. The variance of the coefficient is significantly reduced and it is apparent that the most important variables are `BMI`, `BP` and `S5`. Note that `S1`-`S4` have varied significantly, due to the collinearity (i.e., the variables are highly correlated)."
   ]
  },
  {
   "cell_type": "code",
   "execution_count": 23,
   "metadata": {
    "scrolled": true
   },
   "outputs": [
    {
     "name": "stdout",
     "output_type": "stream",
     "text": [
      "Testing score is 0.4876 ± 0.0628\n"
     ]
    },
    {
     "data": {
      "image/png": "[encoded data removed]",
      "text/plain": [
       "<Figure size 720x360 with 1 Axes>"
      ]
     },
     "metadata": {
      "needs_background": "light"
     },
     "output_type": "display_data"
    }
   ],
   "source": [
    "rng = np.random.RandomState(1) # make sure the results are repeatable\n",
    "feature_names = nX.columns.tolist() # write the column names to a list\n",
    "# cross_validate takes the particular model, in this case ridge regularization\n",
    "# and undertakes a number of runs according the method specified by cv=\n",
    "# RepeatedKFold splits the data into n sections and repeat the regression modelling 5 times, \n",
    "# giving 25 runs\n",
    "# return_estimator=True returns the fitting data for each run\n",
    "scores = cross_validate(Ridge(alpha=20.), nX, Y, \n",
    "                        cv=RepeatedKFold(n_splits=5, n_repeats=5), return_estimator=True)\n",
    "# take the results for each simulation (estimator), extract the coefficients for each run \n",
    "# and add them to a dataframe with columns being the feature names\n",
    "coefs = pd.DataFrame([est.coef_ for est in scores['estimator']],columns=feature_names)\n",
    "# plot the descriptive statics of the coefficients in a box and whisker plot to show \n",
    "# variability\n",
    "ax = coefs.plot(kind='box',figsize=(10,5))\n",
    "plt.title('Ridge regression, alpha = 20.')\n",
    "plt.axhline(y=0, color='.5')\n",
    "plt.subplots_adjust(left=.3)\n",
    "print('Testing score is',\n",
    "      round(np.mean(scores['test_score']),4),\"±\",round(np.std(scores['test_score']),4))\n"
   ]
  },
  {
   "cell_type": "markdown",
   "metadata": {},
   "source": [
    "### Exercise"
   ]
  },
  {
   "cell_type": "markdown",
   "metadata": {},
   "source": [
    "Use `RidgeCV` to estimate the optimal value of `alpha` using the array defined above. You should also investigate the\n",
    "effect of changing the number of cross-validations in the range [4,10]. In this case again use the training and testing sets to fit the model and to test the model. You can use `ridge.score()` to calculate the scores for the test set, and `ridge.alpha_` to find the optimal value of alpha. In general, you should get a similar optimal value of `alpha` to the example above. The use of cross-validations creates a more robust method than the graphical method above. (4 marks)"
   ]
  },
  {
   "cell_type": "code",
   "execution_count": 32,
   "metadata": {},
   "outputs": [
    {
     "name": "stdout",
     "output_type": "stream",
     "text": [
      "Optimal alpha from RidgeCV: 39.8107\n",
      "Testing score with optimal alpha: 0.4309\n"
     ]
    }
   ],
   "source": [
    "from sklearn.linear_model import RidgeCV\n",
    "\n",
    "# Create model with the given alphas\n",
    "ridge_cv = RidgeCV(alphas=alfas, cv=5)\n",
    "ridge_cv.fit(X_train, Y_train)\n",
    "\n",
    "# Finding the Optimal alpha and score for RidgeCV\n",
    "optimal_alpha = ridge_cv.alpha_\n",
    "ridge_cv_score = ridge_cv.score(X_test, Y_test)\n",
    "\n",
    "print(\"Optimal alpha from RidgeCV:\", round(optimal_alpha, 4))\n",
    "print(\"Testing score with optimal alpha:\", round(ridge_cv_score, 4))"
   ]
  },
  {
   "cell_type": "code",
   "execution_count": 48,
   "metadata": {},
   "outputs": [
    {
     "name": "stdout",
     "output_type": "stream",
     "text": [
      "Cross-validation: 4, Optimal alpha: 39.8107, Testing score with optimal alpha: 0.4309\n",
      "Cross-validation: 5, Optimal alpha: 39.8107, Testing score with optimal alpha: 0.4309\n",
      "Cross-validation: 6, Optimal alpha: 39.8107, Testing score with optimal alpha: 0.4309\n",
      "Cross-validation: 7, Optimal alpha: 25.1189, Testing score with optimal alpha: 0.4405\n",
      "Cross-validation: 8, Optimal alpha: 39.8107, Testing score with optimal alpha: 0.4309\n",
      "Cross-validation: 9, Optimal alpha: 63.0957, Testing score with optimal alpha: 0.4123\n",
      "Cross-validation: 10, Optimal alpha: 63.0957, Testing score with optimal alpha: 0.4123\n"
     ]
    }
   ],
   "source": [
    "# Creating a function for calculating optimal alphas across different cross-validation values\n",
    "def analyze_ridge_cv_with_cross_val(X, Y, alphas, cv_values, repeats):\n",
    "    results = []\n",
    "    \n",
    "    for cv in cv_values:\n",
    "        ridge_cv = RidgeCV(alphas=alphas, cv=cv)\n",
    "        ridge_cv.fit(X_train, Y_train)\n",
    "\n",
    "        # Printing the Optimal alpha and score for RidgeCV\n",
    "        optimal_alpha = ridge_cv.alpha_\n",
    "        ridge_cv_score = ridge_cv.score(X_test, Y_test)\n",
    "\n",
    "        results.append({\n",
    "            'cv': cv,\n",
    "            'optimal_alpha': optimal_alpha,\n",
    "            'ridge_cv_score': ridge_cv_score\n",
    "        })\n",
    "\n",
    "        print(f\"Cross-validation: {cv}, Optimal alpha: {round(optimal_alpha, 4)}, \"\n",
    "              f\"Testing score with optimal alpha: {round(ridge_cv_score, 4)}\")\n",
    "\n",
    "    return results\n",
    "\n",
    "# Setting alpha values \n",
    "alfas = np.logspace(-2, 2, num=21)\n",
    "\n",
    "# Using the given range [4, 10]\n",
    "cv_values = range(4, 11)\n",
    "\n",
    "# Printing the results\n",
    "results = analyze_ridge_cv_with_cross_val(X_train, Y_train, alfas, cv_values, 5)"
   ]
  },
  {
   "cell_type": "markdown",
   "metadata": {},
   "source": [
    "The results across the given range are consistent across different cross-validations. The optimal aplha I got is close to 40 while the one in the example was 20 therefore one could say that the results in the given range of cross validation are similar to the example above"
   ]
  },
  {
   "cell_type": "markdown",
   "metadata": {},
   "source": [
    "Using code from earlier in the notebook, create a function which takes the normalized feature set (or subset) and target set for the Diabetes data, a particular value of alpha, a number of cross-validations and a number of repititions, and performs and plots an analysis of the coefficients and calculation of the model accuracy using `RidgeCV`. (3 marks)"
   ]
  },
  {
   "cell_type": "code",
   "execution_count": 46,
   "metadata": {},
   "outputs": [
    {
     "name": "stdout",
     "output_type": "stream",
     "text": [
      "Testing score is 0.4822 ± 0.063\n"
     ]
    },
    {
     "data": {
      "image/png": "[encoded data removed]",
      "text/plain": [
       "<Figure size 720x360 with 1 Axes>"
      ]
     },
     "metadata": {
      "needs_background": "light"
     },
     "output_type": "display_data"
    }
   ],
   "source": [
    "def analyze_ridge_cv_coeff(X, Y, alpha, cv, repeats):\n",
    "    rng = np.random.RandomState(1)  # making sure the results are repeatable\n",
    "    feature_names = X.columns.tolist()\n",
    "    \n",
    "    # Cross-validate Ridge regularization\n",
    "    scores = cross_validate(Ridge(alpha=alpha), X, Y, \n",
    "                            cv=RepeatedKFold(n_splits=cv, n_repeats=repeats), \n",
    "                            return_estimator=True, return_train_score=True)\n",
    "    \n",
    "    # Display testing score\n",
    "    print('Testing score is',\n",
    "          round(np.mean(scores['test_score']), 4), \"±\", round(np.std(scores['test_score']), 4))\n",
    "    \n",
    "    # Put coefficients in new dataframe\n",
    "    coefs = pd.DataFrame([est.coef_ for est in scores['estimator']], columns=feature_names)\n",
    "    \n",
    "    # Plot coefficients\n",
    "    ax = coefs.plot(kind='box', figsize=(10, 5))\n",
    "    plt.title('Ridge regression, alpha = ' + str(alpha))\n",
    "    plt.axhline(y=0, color='.5')\n",
    "    plt.show()\n",
    "    \n",
    "analyze_ridge_cv_coeff(nX, Y, optimal_alpha, 5, 5)"
   ]
  },
  {
   "cell_type": "markdown",
   "metadata": {},
   "source": [
    "Now use the function that you have just created. For the optimal value of `alpha` found using `RidgeCV` in the previous analysis, rerun the analysis of the coefficients and calculation of the model accuracy, but in this case  investigate the effect of individually dropping the columns `AGE`, `S2` and `S4`. (1 marks each)"
   ]
  },
  {
   "cell_type": "code",
   "execution_count": 41,
   "metadata": {},
   "outputs": [],
   "source": [
    "def drop_and_analyze_columns(X, Y, alpha, cv, repeats, columns_to_drop):\n",
    "    for column in columns_to_drop:\n",
    "        # Drop the specified column\n",
    "        X_subset = X.drop([column], axis=1)\n",
    "        analyze_ridge_cv_coefficients(X_subset, Y, alpha, cv, repeats)\n"
   ]
  },
  {
   "cell_type": "markdown",
   "metadata": {},
   "source": [
    "Drop the `AGE` column."
   ]
  },
  {
   "cell_type": "code",
   "execution_count": 42,
   "metadata": {},
   "outputs": [
    {
     "name": "stdout",
     "output_type": "stream",
     "text": [
      "Testing score is 0.4878 ± 0.0781\n"
     ]
    },
    {
     "data": {
      "image/png": "[encoded data removed]",
      "text/plain": [
       "<Figure size 720x360 with 1 Axes>"
      ]
     },
     "metadata": {
      "needs_background": "light"
     },
     "output_type": "display_data"
    }
   ],
   "source": [
    "drop_and_analyze_columns(nX, Y, optimal_alpha, 5, 5, ['AGE'])"
   ]
  },
  {
   "cell_type": "markdown",
   "metadata": {},
   "source": [
    "Drop the `S2` column."
   ]
  },
  {
   "cell_type": "code",
   "execution_count": 43,
   "metadata": {},
   "outputs": [
    {
     "name": "stdout",
     "output_type": "stream",
     "text": [
      "Testing score is 0.4867 ± 0.07\n"
     ]
    },
    {
     "data": {
      "image/png": "[encoded data removed]",
      "text/plain": [
       "<Figure size 720x360 with 1 Axes>"
      ]
     },
     "metadata": {
      "needs_background": "light"
     },
     "output_type": "display_data"
    }
   ],
   "source": [
    "drop_and_analyze_columns(nX, Y, optimal_alpha, 5, 5, ['S2'])"
   ]
  },
  {
   "cell_type": "markdown",
   "metadata": {},
   "source": [
    "Drop the `S4` column."
   ]
  },
  {
   "cell_type": "code",
   "execution_count": 44,
   "metadata": {},
   "outputs": [
    {
     "name": "stdout",
     "output_type": "stream",
     "text": [
      "Testing score is 0.4853 ± 0.0586\n"
     ]
    },
    {
     "data": {
      "image/png": "[encoded data removed]",
      "text/plain": [
       "<Figure size 720x360 with 1 Axes>"
      ]
     },
     "metadata": {
      "needs_background": "light"
     },
     "output_type": "display_data"
    }
   ],
   "source": [
    "drop_and_analyze_columns(nX, Y, optimal_alpha, 5, 5, ['S4'])"
   ]
  },
  {
   "cell_type": "code",
   "execution_count": null,
   "metadata": {},
   "outputs": [],
   "source": []
  }
 ],
 "metadata": {
  "kernelspec": {
   "display_name": "Python 3",
   "language": "python",
   "name": "python3"
  },
  "language_info": {
   "codemirror_mode": {
    "name": "ipython",
    "version": 3
   },
   "file_extension": ".py",
   "mimetype": "text/x-python",
   "name": "python",
   "nbconvert_exporter": "python",
   "pygments_lexer": "ipython3",
   "version": "3.7.6"
  }
 },
 "nbformat": 4,
 "nbformat_minor": 4
}
